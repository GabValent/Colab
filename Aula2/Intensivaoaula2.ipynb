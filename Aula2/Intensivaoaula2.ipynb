{
  "nbformat": 4,
  "nbformat_minor": 0,
  "metadata": {
    "colab": {
      "provenance": [],
      "authorship_tag": "ABX9TyPSjD2doosVcHDUuKSdG4L8",
      "include_colab_link": true
    },
    "kernelspec": {
      "name": "python3",
      "display_name": "Python 3"
    },
    "language_info": {
      "name": "python"
    }
  },
  "cells": [
    {
      "cell_type": "markdown",
      "metadata": {
        "id": "view-in-github",
        "colab_type": "text"
      },
      "source": [
        "<a href=\"https://colab.research.google.com/github/GabValent/Colab/blob/main/Aula2/Intensivaoaula2.ipynb\" target=\"_parent\"><img src=\"https://colab.research.google.com/assets/colab-badge.svg\" alt=\"Open In Colab\"/></a>"
      ]
    },
    {
      "cell_type": "code",
      "execution_count": null,
      "metadata": {
        "id": "XJ1OALT-ARja"
      },
      "outputs": [],
      "source": [
        "!pip install plotly"
      ]
    },
    {
      "cell_type": "code",
      "execution_count": null,
      "metadata": {
        "id": "ptLoxQd5Bs7m"
      },
      "outputs": [],
      "source": [
        "# Passo 1: Importar a base de dados\n",
        "import pandas as pd\n",
        "\n",
        "tabela = pd.read_csv(\"telecom_users.csv\")\n",
        "\n",
        "# Passo 2: Visualizar a base de dados\n",
        "tabela = tabela.drop(\"Unnamed: 0\", axis=1)\n",
        "display(tabela)\n",
        "# - Entender quais as informações tão disponíveis\n",
        "# - Descobrir as cagadas da base de dados"
      ]
    },
    {
      "cell_type": "code",
      "execution_count": null,
      "metadata": {
        "id": "oZ3Aob1bBs7r"
      },
      "outputs": [],
      "source": [
        "# Passo 3: Tratamento de dados\n",
        "# - Valores que estão reconhecidos de forma errada\n",
        "tabela[\"TotalGasto\"] = pd.to_numeric(tabela[\"TotalGasto\"], errors=\"coerce\")\n",
        "\n",
        "# - Valores vazios\n",
        "# deletando as colunas vazias\n",
        "# axis = 0 _> linha ou axis = 1 _> coluna\n",
        "tabela = tabela.dropna(how=\"all\", axis=1)\n",
        "# deletando as linhas vazias\n",
        "tabela = tabela.dropna(how=\"any\", axis=0)\n",
        "\n",
        "print(tabela.info())"
      ]
    },
    {
      "cell_type": "code",
      "execution_count": null,
      "metadata": {
        "id": "2HayHHoZBs7t"
      },
      "outputs": [],
      "source": [
        "# Passo 4: Análise Inicial\n",
        "# Como estão os nossos cancelamentos?\n",
        "print(tabela[\"Churn\"].value_counts())\n",
        "print(tabela[\"Churn\"].value_counts(normalize=True).map(\"{:.1%}\".format))"
      ]
    },
    {
      "cell_type": "code",
      "execution_count": null,
      "metadata": {
        "scrolled": true,
        "id": "ZL59qZsgBs7u"
      },
      "outputs": [],
      "source": [
        "# Passo 5: Análise Mais completa\n",
        "# comparar cada coluna da minha tabela com a coluna de cancelamento\n",
        "import plotly.express as px\n",
        "\n",
        "# etapa 1: criar o gráfico\n",
        "for coluna in tabela.columns:\n",
        "    # para edições nos gráficos: https://plotly.com/python/histograms/\n",
        "    # para mudar a cor do gráfico , color_discrete_sequence=[\"blue\", \"green\"]\n",
        "    grafico = px.histogram(tabela, x=coluna, color=\"Churn\", text_auto=True)\n",
        "    # etapa 2: exibir o gráfico\n",
        "    grafico.show()"
      ]
    }
  ]
}