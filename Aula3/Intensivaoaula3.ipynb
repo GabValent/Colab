{
  "nbformat": 4,
  "nbformat_minor": 0,
  "metadata": {
    "colab": {
      "provenance": [],
      "authorship_tag": "ABX9TyNtdmpCHikhT29FH9DalPjM",
      "include_colab_link": true
    },
    "kernelspec": {
      "name": "python3",
      "display_name": "Python 3"
    },
    "language_info": {
      "name": "python"
    }
  },
  "cells": [
    {
      "cell_type": "markdown",
      "metadata": {
        "id": "view-in-github",
        "colab_type": "text"
      },
      "source": [
        "<a href=\"https://colab.research.google.com/github/GabValent/Colab/blob/main/Aula3/Intensivaoaula3.ipynb\" target=\"_parent\"><img src=\"https://colab.research.google.com/assets/colab-badge.svg\" alt=\"Open In Colab\"/></a>"
      ]
    },
    {
      "cell_type": "code",
      "execution_count": null,
      "metadata": {
        "id": "Z7B2mt-KDu8m"
      },
      "outputs": [],
      "source": [
        "!pip install selenium"
      ]
    },
    {
      "cell_type": "code",
      "execution_count": null,
      "metadata": {
        "id": "JWHD0_S1DzcF",
        "outputId": "207a95a5-4fed-4956-90b1-01bd908061d2"
      },
      "outputs": [
        {
          "name": "stdout",
          "output_type": "stream",
          "text": [
            "5.2444999999999995\n",
            "5.350622457\n",
            "292.20\n"
          ]
        }
      ],
      "source": [
        "from selenium import webdriver\n",
        "from selenium.webdriver.common.keys import Keys\n",
        "from selenium.webdriver.common.by import By\n",
        "\n",
        "# para rodar o chrome em 2º plano\n",
        "# from selenium.webdriver.chrome.options import Options\n",
        "# chrome_options = Options()\n",
        "# chrome_options.headless = True\n",
        "# navegador = webdriver.Chrome(options=chrome_options)\n",
        "\n",
        "# abrir um navegador\n",
        "navegador = webdriver.Chrome()\n",
        "# caso queira deixar na mesma pasta do seu código\n",
        "# navegador = webdriver.Chrome(\"chromedriver.exe\")\n",
        "\n",
        "\n",
        "navegador.get(\"https://www.google.com/\")\n",
        "\n",
        "# Passo 1: Pegar a cotação do Dólar\n",
        "navegador.find_element(By.XPATH,\n",
        "    '/html/body/div[1]/div[3]/form/div[1]/div[1]/div[1]/div/div[2]/input').send_keys(\"cotação dólar\")\n",
        "\n",
        "navegador.find_element(By.XPATH,\n",
        "    '/html/body/div[1]/div[3]/form/div[1]/div[1]/div[1]/div/div[2]/input').send_keys(Keys.ENTER)\n",
        "\n",
        "cotacao_dolar = navegador.find_element(By.XPATH,\n",
        "    '//*[@id=\"knowledge-currency__updatable-data-column\"]/div[1]/div[2]/span[1]').get_attribute(\"data-value\")\n",
        "print(cotacao_dolar)\n",
        "\n",
        "# Passo 2: Pegar a cotação do Euro\n",
        "navegador.get(\"https://www.google.com/\")\n",
        "navegador.find_element(By.XPATH,\n",
        "    '/html/body/div[1]/div[3]/form/div[1]/div[1]/div[1]/div/div[2]/input').send_keys(\"cotação euro\")\n",
        "navegador.find_element(By.XPATH,\n",
        "    '/html/body/div[1]/div[3]/form/div[1]/div[1]/div[1]/div/div[2]/input').send_keys(Keys.ENTER)\n",
        "\n",
        "cotacao_euro = navegador.find_element(By.XPATH,\n",
        "    '//*[@id=\"knowledge-currency__updatable-data-column\"]/div[1]/div[2]/span[1]').get_attribute(\"data-value\")\n",
        "print(cotacao_euro)\n",
        "\n",
        "# Passo 3: Pegar a cotação do Ouro\n",
        "navegador.get(\"https://www.melhorcambio.com/ouro-hoje\")\n",
        "\n",
        "cotacao_ouro = navegador.find_element(By.XPATH, '//*[@id=\"comercial\"]').get_attribute(\"value\")\n",
        "cotacao_ouro = cotacao_ouro.replace(\",\", \".\")\n",
        "print(cotacao_ouro)\n",
        "\n",
        "navegador.quit()"
      ]
    },
    {
      "cell_type": "code",
      "execution_count": null,
      "metadata": {
        "scrolled": true,
        "id": "TbQCkSwPDzcQ"
      },
      "outputs": [],
      "source": [
        "# Passo 4: Importar a lista de produtos\n",
        "import pandas as pd\n",
        "\n",
        "tabela = pd.read_excel(\"Produtos.xlsx\")\n",
        "display(tabela)"
      ]
    },
    {
      "cell_type": "code",
      "execution_count": null,
      "metadata": {
        "scrolled": false,
        "id": "x1sQrMxaDzcV"
      },
      "outputs": [],
      "source": [
        "# Passo 5: Recalcular o preço de cada produto\n",
        "# atualizar a cotação\n",
        "# nas linhas onde na coluna \"Moeda\" = Dólar\n",
        "tabela.loc[tabela[\"Moeda\"] == \"Dólar\", \"Cotação\"] = float(cotacao_dolar)\n",
        "tabela.loc[tabela[\"Moeda\"] == \"Euro\", \"Cotação\"] = float(cotacao_euro)\n",
        "tabela.loc[tabela[\"Moeda\"] == \"Ouro\", \"Cotação\"] = float(cotacao_ouro)\n",
        "\n",
        "# atualizar o preço base reais (preço base original * cotação)\n",
        "tabela[\"Preço de Compra\"] = tabela[\"Preço Original\"] * tabela[\"Cotação\"]\n",
        "\n",
        "# atualizar o preço final (preço base reais * Margem)\n",
        "tabela[\"Preço de Venda\"] = tabela[\"Preço de Compra\"] * tabela[\"Margem\"]\n",
        "\n",
        "# tabela[\"Preço de Venda\"] = tabela[\"Preço de Venda\"].map(\"R${:.2f}\".format)\n",
        "\n",
        "display(tabela)"
      ]
    },
    {
      "cell_type": "code",
      "execution_count": null,
      "metadata": {
        "id": "14hi_tn6Dzca"
      },
      "outputs": [],
      "source": [
        "# Passo 6: Salvar os novos preços dos produtos\n",
        "tabela.to_excel(\"Produtos Novo.xlsx\", index=False)"
      ]
    }
  ]
}