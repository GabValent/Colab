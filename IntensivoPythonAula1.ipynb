{
  "nbformat": 4,
  "nbformat_minor": 0,
  "metadata": {
    "colab": {
      "provenance": [],
      "authorship_tag": "ABX9TyOhdG7yO1SMIre0fhQrBEo0",
      "include_colab_link": true
    },
    "kernelspec": {
      "name": "python3",
      "display_name": "Python 3"
    },
    "language_info": {
      "name": "python"
    }
  },
  "cells": [
    {
      "cell_type": "markdown",
      "metadata": {
        "id": "view-in-github",
        "colab_type": "text"
      },
      "source": [
        "<a href=\"https://colab.research.google.com/github/GabValent/Colab/blob/main/IntensivoPythonAula1.ipynb\" target=\"_parent\"><img src=\"https://colab.research.google.com/assets/colab-badge.svg\" alt=\"Open In Colab\"/></a>"
      ]
    },
    {
      "cell_type": "code",
      "execution_count": null,
      "metadata": {
        "id": "qASODv208bFg"
      },
      "outputs": [],
      "source": [
        "!pip install pyautogui"
      ]
    },
    {
      "cell_type": "code",
      "execution_count": null,
      "metadata": {
        "id": "JIDLqxGb8bFn"
      },
      "outputs": [],
      "source": [
        "import pyautogui\n",
        "import pyperclip\n",
        "import time\n",
        "\n",
        "pyautogui.PAUSE = 1\n",
        "\n",
        "# pyautogui.click -> clicar\n",
        "# pyautogui.press -> apertar 1 tecla\n",
        "# pyautogui.hotkey -> conjunto de teclas\n",
        "# pyautogui.write -> escreve um texto\n",
        "\n",
        "# Passo 1: Entrar no sistema da empresa (no nosso caso é o link do drive)\n",
        "pyautogui.hotkey(\"ctrl\", \"t\")\n",
        "pyperclip.copy(\"https://drive.google.com/drive/folders/149xknr9JvrlEnhNWO49zPcw0PW5icxga?usp=sharing\")\n",
        "pyautogui.hotkey(\"ctrl\", \"v\")\n",
        "pyautogui.press(\"enter\")\n",
        "\n",
        "time.sleep(5)\n",
        "\n",
        "# Passo 2: Navegar no sistema e encontrar a base de vendas (entrar na pasta exportar)\n",
        "pyautogui.click(x=1023, y=710, clicks=2)\n",
        "time.sleep(2)\n",
        "\n",
        "# Passo 3: Fazer o download da base de vendas\n",
        "pyautogui.click(x=1100, y=904) # clicar no arquivo\n",
        "pyautogui.click(x=3288, y=411) # clicar nos 3 pontinhos\n",
        "pyautogui.click(x=2716, y=1523) # clicar no fazer download\n",
        "time.sleep(5) # esperar o download acabar"
      ]
    },
    {
      "cell_type": "code",
      "execution_count": null,
      "metadata": {
        "id": "y2lzJxv_8bFr"
      },
      "outputs": [],
      "source": [
        "# Passo 4: Importar a base de vendas pro Python\n",
        "import pandas as pd\n",
        "\n",
        "tabela = pd.read_excel(\"Vendas - Dez.xlsx\")\n",
        "display(tabela)"
      ]
    },
    {
      "cell_type": "code",
      "execution_count": null,
      "metadata": {
        "id": "6DTv0C2g8bFt",
        "outputId": "05f5826e-f969-4b29-cc2a-5d14363f344b"
      },
      "outputs": [
        {
          "name": "stdout",
          "output_type": "stream",
          "text": [
            "2917311\n",
            "15227\n"
          ]
        }
      ],
      "source": [
        "# Passo 5: Calcular os indicadores da empresa\n",
        "faturamento = tabela[\"Valor Final\"].sum()\n",
        "print(faturamento)\n",
        "quantidade = tabela[\"Quantidade\"].sum()\n",
        "print(quantidade)"
      ]
    },
    {
      "cell_type": "code",
      "execution_count": null,
      "metadata": {
        "id": "H6cVvWaN8bFw"
      },
      "outputs": [],
      "source": [
        "# Passo 6: Enviar um e-mail para a diretoria com os indicadores de venda\n",
        "\n",
        "# abrir aba\n",
        "pyautogui.hotkey(\"ctrl\", \"t\")\n",
        "\n",
        "# entrar no link do email - https://mail.google.com/mail/u/0/#inbox\n",
        "pyperclip.copy(\"https://mail.google.com/mail/u/0/#inbox\")\n",
        "pyautogui.hotkey(\"ctrl\", \"v\")\n",
        "pyautogui.press(\"enter\")\n",
        "time.sleep(5)\n",
        "\n",
        "# clicar no botão escrever\n",
        "pyautogui.click(x=240, y=415)\n",
        "\n",
        "# preencher as informações do e-mail\n",
        "pyautogui.write(\"pythonimpressionador@gmail.com\")\n",
        "pyautogui.press(\"tab\") # selecionar o email\n",
        "\n",
        "pyautogui.press(\"tab\") # pular para o campo de assunto\n",
        "pyperclip.copy(\"Relatório de Vendas\")\n",
        "pyautogui.hotkey(\"ctrl\", \"v\")\n",
        "\n",
        "pyautogui.press(\"tab\") # pular para o campo de corpo do email\n",
        "\n",
        "texto = f\"\"\"\n",
        "Prezados,\n",
        "\n",
        "Segue relatório de vendas.\n",
        "Faturamento: R${faturamento:,.2f}\n",
        "Quantidade de produtos vendidos: {quantidade:,}\n",
        "\n",
        "Qualquer dúvida estou à disposição.\n",
        "Att.,\n",
        "Lira do Python\n",
        "\"\"\"\n",
        "\n",
        "# formatação dos números (moeda, dinheiro)\n",
        "\n",
        "pyperclip.copy(texto)\n",
        "pyautogui.hotkey(\"ctrl\", \"v\")\n",
        "\n",
        "# enviar o e-mail\n",
        "pyautogui.hotkey(\"ctrl\", \"enter\")"
      ]
    },
    {
      "cell_type": "code",
      "execution_count": null,
      "metadata": {
        "id": "KbcjW8eG8bF3"
      },
      "outputs": [],
      "source": [
        "time.sleep(5)\n",
        "pyautogui.position()"
      ]
    }
  ]
}