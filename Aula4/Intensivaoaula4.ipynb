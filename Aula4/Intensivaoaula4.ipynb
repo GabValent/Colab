{
  "nbformat": 4,
  "nbformat_minor": 0,
  "metadata": {
    "colab": {
      "provenance": [],
      "authorship_tag": "ABX9TyPDa7b4fYry8vBrJZRhZH3g",
      "include_colab_link": true
    },
    "kernelspec": {
      "name": "python3",
      "display_name": "Python 3"
    },
    "language_info": {
      "name": "python"
    }
  },
  "cells": [
    {
      "cell_type": "markdown",
      "metadata": {
        "id": "view-in-github",
        "colab_type": "text"
      },
      "source": [
        "<a href=\"https://colab.research.google.com/github/GabValent/Colab/blob/main/Aula4/Intensivaoaula4.ipynb\" target=\"_parent\"><img src=\"https://colab.research.google.com/assets/colab-badge.svg\" alt=\"Open In Colab\"/></a>"
      ]
    },
    {
      "cell_type": "code",
      "execution_count": null,
      "metadata": {
        "id": "LzZxsglq4eqT"
      },
      "outputs": [],
      "source": [
        "!pip install matplotlib\n",
        "!pip install seaborn\n",
        "!pip install scikit-learn"
      ]
    },
    {
      "cell_type": "code",
      "execution_count": null,
      "metadata": {
        "id": "n6k84PVb4eqT"
      },
      "outputs": [],
      "source": [
        "import pandas as pd\n",
        "\n",
        "tabela = pd.read_csv(\"advertising.csv\")\n",
        "display(tabela)"
      ]
    },
    {
      "cell_type": "code",
      "execution_count": null,
      "metadata": {
        "id": "Lvx8o6qf4eqU"
      },
      "outputs": [],
      "source": [
        "import seaborn as sns\n",
        "import matplotlib.pyplot as plt\n",
        "\n",
        "sns.heatmap(tabela.corr(), annot=True, cmap=\"Wistia\")\n",
        "plt.show()\n",
        "\n",
        "# outra forma de ver a mesma análise\n",
        "# sns.pairplot(tabela)\n",
        "# plt.show()"
      ]
    },
    {
      "cell_type": "code",
      "execution_count": null,
      "metadata": {
        "id": "rngN63I34eqU"
      },
      "outputs": [],
      "source": [
        "from sklearn.model_selection import train_test_split\n",
        "\n",
        "y = tabela[\"Vendas\"]\n",
        "x = tabela.drop(\"Vendas\", axis=1)\n",
        "\n",
        "x_treino, x_teste, y_treino, y_teste = train_test_split(x, y, test_size=0.3, random_state=1)"
      ]
    },
    {
      "cell_type": "code",
      "execution_count": null,
      "metadata": {
        "id": "zqeHVHpq4eqU"
      },
      "outputs": [],
      "source": [
        "from sklearn.linear_model import LinearRegression\n",
        "from sklearn.ensemble import RandomForestRegressor\n",
        "\n",
        "# cria as inteligencias aritificiais\n",
        "modelo_regressaolinear = LinearRegression()\n",
        "modelo_arvoredecisao = RandomForestRegressor()\n",
        "\n",
        "# treina as inteligencias artificias\n",
        "modelo_regressaolinear.fit(x_treino, y_treino)\n",
        "modelo_arvoredecisao.fit(x_treino, y_treino)"
      ]
    },
    {
      "cell_type": "code",
      "execution_count": null,
      "metadata": {
        "id": "2t0UB6is4eqU"
      },
      "outputs": [],
      "source": [
        "from sklearn import metrics\n",
        "\n",
        "# criar as previsoes\n",
        "previsao_regressaolinear = modelo_regressaolinear.predict(x_teste)\n",
        "previsao_arvoredecisao = modelo_arvoredecisao.predict(x_teste)\n",
        "\n",
        "# comparar os modelos\n",
        "print(metrics.r2_score(y_teste, previsao_regressaolinear))\n",
        "print(metrics.r2_score(y_teste, previsao_arvoredecisao))"
      ]
    },
    {
      "cell_type": "code",
      "execution_count": null,
      "metadata": {
        "scrolled": false,
        "id": "KzLXaw5D4eqV"
      },
      "outputs": [],
      "source": [
        "tabela_auxiliar = pd.DataFrame()\n",
        "tabela_auxiliar[\"y_teste\"] = y_teste\n",
        "tabela_auxiliar[\"Previsoes ArvoreDecisao\"] = previsao_arvoredecisao\n",
        "tabela_auxiliar[\"Previsoes Regressao Linear\"] = previsao_regressaolinear\n",
        "\n",
        "plt.figure(figsize=(15,6))\n",
        "sns.lineplot(data=tabela_auxiliar)\n",
        "plt.show()"
      ]
    },
    {
      "cell_type": "code",
      "execution_count": null,
      "metadata": {
        "id": "JyXH79RY4eqV"
      },
      "outputs": [],
      "source": [
        "# Como fazer uma nova previsao\n",
        "# importar a nova_tabela com o pandas (a nova tabela tem que ter os dados de TV, Radio e Jornal)\n",
        "# previsao = modelo_randomforest.predict(nova_tabela)\n",
        "# print(previsao)\n",
        "nova_tabela = pd.read_csv(\"novos.csv\")\n",
        "display(nova_tabela)\n",
        "previsao = modelo_arvoredecisao.predict(nova_tabela)\n",
        "print(previsao)"
      ]
    },
    {
      "cell_type": "code",
      "execution_count": null,
      "metadata": {
        "id": "Dx-lpmnX4eqV"
      },
      "outputs": [],
      "source": [
        "sns.barplot(x=x_treino.columns, y=modelo_arvoredecisao.feature_importances_)\n",
        "plt.show()\n",
        "\n",
        "# Caso queira comparar Radio com Jornal\n",
        "# print(df[[\"Radio\", \"Jornal\"]].sum())"
      ]
    }
  ]
}